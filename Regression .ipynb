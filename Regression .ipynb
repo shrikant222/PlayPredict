{
 "cells": [
  {
   "cell_type": "code",
   "execution_count": 2,
   "id": "714575f5",
   "metadata": {},
   "outputs": [],
   "source": [
    "# Import necessary libraries\n",
    "import pandas as pd\n",
    "import numpy as np\n",
    "from sklearn.model_selection import train_test_split\n",
    "from sklearn.preprocessing import StandardScaler\n",
    "from sklearn.metrics import mean_squared_error, r2_score\n",
    "import matplotlib.pyplot as plt\n",
    "from sklearn.preprocessing import RobustScaler\n",
    "from sklearn.model_selection import train_test_split\n",
    "from sklearn.linear_model import LinearRegression\n",
    "from sklearn.metrics import mean_absolute_error, mean_squared_error, r2_score\n",
    "from sklearn.model_selection import cross_val_score\n",
    "from sklearn.tree import DecisionTreeRegressor\n"
   ]
  },
  {
   "cell_type": "code",
   "execution_count": 3,
   "id": "ba957166",
   "metadata": {},
   "outputs": [],
   "source": [
    "# Load the dataset\n",
    "data = pd.read_csv('game_data_all.csv', sep=',',\n",
    "usecols=['game', 'release', 'peak_players', 'positive_reviews', 'negative_reviews', 'total_reviews', 'rating'])"
   ]
  },
  {
   "cell_type": "code",
   "execution_count": 4,
   "id": "a5700ad1",
   "metadata": {
    "scrolled": true
   },
   "outputs": [
    {
     "name": "stdout",
     "output_type": "stream",
     "text": [
      "<class 'pandas.core.frame.DataFrame'>\n",
      "RangeIndex: 67571 entries, 0 to 67570\n",
      "Data columns (total 7 columns):\n",
      " #   Column            Non-Null Count  Dtype  \n",
      "---  ------            --------------  -----  \n",
      " 0   game              67571 non-null  object \n",
      " 1   release           67571 non-null  object \n",
      " 2   peak_players      67571 non-null  int64  \n",
      " 3   positive_reviews  67571 non-null  int64  \n",
      " 4   negative_reviews  67571 non-null  int64  \n",
      " 5   total_reviews     67571 non-null  int64  \n",
      " 6   rating            67571 non-null  float64\n",
      "dtypes: float64(1), int64(4), object(2)\n",
      "memory usage: 3.6+ MB\n"
     ]
    }
   ],
   "source": [
    "data.info()\n"
   ]
  },
  {
   "cell_type": "code",
   "execution_count": 5,
   "id": "a875a144",
   "metadata": {},
   "outputs": [
    {
     "data": {
      "text/html": [
       "<div>\n",
       "<style scoped>\n",
       "    .dataframe tbody tr th:only-of-type {\n",
       "        vertical-align: middle;\n",
       "    }\n",
       "\n",
       "    .dataframe tbody tr th {\n",
       "        vertical-align: top;\n",
       "    }\n",
       "\n",
       "    .dataframe thead th {\n",
       "        text-align: right;\n",
       "    }\n",
       "</style>\n",
       "<table border=\"1\" class=\"dataframe\">\n",
       "  <thead>\n",
       "    <tr style=\"text-align: right;\">\n",
       "      <th></th>\n",
       "      <th>peak_players</th>\n",
       "      <th>positive_reviews</th>\n",
       "      <th>negative_reviews</th>\n",
       "      <th>total_reviews</th>\n",
       "      <th>rating</th>\n",
       "    </tr>\n",
       "  </thead>\n",
       "  <tbody>\n",
       "    <tr>\n",
       "      <th>count</th>\n",
       "      <td>6.757100e+04</td>\n",
       "      <td>6.757100e+04</td>\n",
       "      <td>67571.000000</td>\n",
       "      <td>6.757100e+04</td>\n",
       "      <td>67571.000000</td>\n",
       "    </tr>\n",
       "    <tr>\n",
       "      <th>mean</th>\n",
       "      <td>9.528674e+02</td>\n",
       "      <td>1.273527e+03</td>\n",
       "      <td>216.893801</td>\n",
       "      <td>1.490421e+03</td>\n",
       "      <td>65.288208</td>\n",
       "    </tr>\n",
       "    <tr>\n",
       "      <th>std</th>\n",
       "      <td>1.979093e+04</td>\n",
       "      <td>2.955163e+04</td>\n",
       "      <td>5434.959528</td>\n",
       "      <td>3.400923e+04</td>\n",
       "      <td>14.059623</td>\n",
       "    </tr>\n",
       "    <tr>\n",
       "      <th>min</th>\n",
       "      <td>0.000000e+00</td>\n",
       "      <td>0.000000e+00</td>\n",
       "      <td>0.000000</td>\n",
       "      <td>1.000000e+00</td>\n",
       "      <td>15.090000</td>\n",
       "    </tr>\n",
       "    <tr>\n",
       "      <th>25%</th>\n",
       "      <td>3.000000e+00</td>\n",
       "      <td>5.000000e+00</td>\n",
       "      <td>1.000000</td>\n",
       "      <td>7.000000e+00</td>\n",
       "      <td>56.530000</td>\n",
       "    </tr>\n",
       "    <tr>\n",
       "      <th>50%</th>\n",
       "      <td>7.000000e+00</td>\n",
       "      <td>1.900000e+01</td>\n",
       "      <td>6.000000</td>\n",
       "      <td>2.600000e+01</td>\n",
       "      <td>66.760000</td>\n",
       "    </tr>\n",
       "    <tr>\n",
       "      <th>75%</th>\n",
       "      <td>4.600000e+01</td>\n",
       "      <td>9.900000e+01</td>\n",
       "      <td>29.000000</td>\n",
       "      <td>1.320000e+02</td>\n",
       "      <td>75.640000</td>\n",
       "    </tr>\n",
       "    <tr>\n",
       "      <th>max</th>\n",
       "      <td>3.257248e+06</td>\n",
       "      <td>6.307931e+06</td>\n",
       "      <td>927317.000000</td>\n",
       "      <td>7.117776e+06</td>\n",
       "      <td>97.540000</td>\n",
       "    </tr>\n",
       "  </tbody>\n",
       "</table>\n",
       "</div>"
      ],
      "text/plain": [
       "       peak_players  positive_reviews  negative_reviews  total_reviews  \\\n",
       "count  6.757100e+04      6.757100e+04      67571.000000   6.757100e+04   \n",
       "mean   9.528674e+02      1.273527e+03        216.893801   1.490421e+03   \n",
       "std    1.979093e+04      2.955163e+04       5434.959528   3.400923e+04   \n",
       "min    0.000000e+00      0.000000e+00          0.000000   1.000000e+00   \n",
       "25%    3.000000e+00      5.000000e+00          1.000000   7.000000e+00   \n",
       "50%    7.000000e+00      1.900000e+01          6.000000   2.600000e+01   \n",
       "75%    4.600000e+01      9.900000e+01         29.000000   1.320000e+02   \n",
       "max    3.257248e+06      6.307931e+06     927317.000000   7.117776e+06   \n",
       "\n",
       "             rating  \n",
       "count  67571.000000  \n",
       "mean      65.288208  \n",
       "std       14.059623  \n",
       "min       15.090000  \n",
       "25%       56.530000  \n",
       "50%       66.760000  \n",
       "75%       75.640000  \n",
       "max       97.540000  "
      ]
     },
     "execution_count": 5,
     "metadata": {},
     "output_type": "execute_result"
    }
   ],
   "source": [
    "data.describe()"
   ]
  },
  {
   "cell_type": "code",
   "execution_count": 6,
   "id": "af25a50a",
   "metadata": {},
   "outputs": [
    {
     "data": {
      "text/html": [
       "<div>\n",
       "<style scoped>\n",
       "    .dataframe tbody tr th:only-of-type {\n",
       "        vertical-align: middle;\n",
       "    }\n",
       "\n",
       "    .dataframe tbody tr th {\n",
       "        vertical-align: top;\n",
       "    }\n",
       "\n",
       "    .dataframe thead th {\n",
       "        text-align: right;\n",
       "    }\n",
       "</style>\n",
       "<table border=\"1\" class=\"dataframe\">\n",
       "  <thead>\n",
       "    <tr style=\"text-align: right;\">\n",
       "      <th></th>\n",
       "      <th>game</th>\n",
       "      <th>release</th>\n",
       "      <th>peak_players</th>\n",
       "      <th>positive_reviews</th>\n",
       "      <th>negative_reviews</th>\n",
       "      <th>total_reviews</th>\n",
       "      <th>rating</th>\n",
       "    </tr>\n",
       "  </thead>\n",
       "  <tbody>\n",
       "    <tr>\n",
       "      <th>0</th>\n",
       "      <td>Pizza Tower</td>\n",
       "      <td>2023-01-26</td>\n",
       "      <td>4529</td>\n",
       "      <td>19807</td>\n",
       "      <td>227</td>\n",
       "      <td>20034</td>\n",
       "      <td>96.39</td>\n",
       "    </tr>\n",
       "    <tr>\n",
       "      <th>1</th>\n",
       "      <td>Resident Evil 4</td>\n",
       "      <td>2023-03-24</td>\n",
       "      <td>168191</td>\n",
       "      <td>61752</td>\n",
       "      <td>1616</td>\n",
       "      <td>63368</td>\n",
       "      <td>95.75</td>\n",
       "    </tr>\n",
       "    <tr>\n",
       "      <th>2</th>\n",
       "      <td>The Murder of Sonic the Hedgehog</td>\n",
       "      <td>2023-03-31</td>\n",
       "      <td>15543</td>\n",
       "      <td>12643</td>\n",
       "      <td>213</td>\n",
       "      <td>12856</td>\n",
       "      <td>95.54</td>\n",
       "    </tr>\n",
       "    <tr>\n",
       "      <th>3</th>\n",
       "      <td>Pineapple on pizza</td>\n",
       "      <td>2023-03-28</td>\n",
       "      <td>1415</td>\n",
       "      <td>11717</td>\n",
       "      <td>209</td>\n",
       "      <td>11926</td>\n",
       "      <td>95.39</td>\n",
       "    </tr>\n",
       "    <tr>\n",
       "      <th>4</th>\n",
       "      <td>Hi-Fi RUSH</td>\n",
       "      <td>2023-01-25</td>\n",
       "      <td>6132</td>\n",
       "      <td>14152</td>\n",
       "      <td>324</td>\n",
       "      <td>14476</td>\n",
       "      <td>95.09</td>\n",
       "    </tr>\n",
       "    <tr>\n",
       "      <th>...</th>\n",
       "      <td>...</td>\n",
       "      <td>...</td>\n",
       "      <td>...</td>\n",
       "      <td>...</td>\n",
       "      <td>...</td>\n",
       "      <td>...</td>\n",
       "      <td>...</td>\n",
       "    </tr>\n",
       "    <tr>\n",
       "      <th>67566</th>\n",
       "      <td>Space Empires V</td>\n",
       "      <td>2006-10-16</td>\n",
       "      <td>137</td>\n",
       "      <td>290</td>\n",
       "      <td>120</td>\n",
       "      <td>410</td>\n",
       "      <td>67.34</td>\n",
       "    </tr>\n",
       "    <tr>\n",
       "      <th>67567</th>\n",
       "      <td>Iron Warriors: T-72 Tank Command</td>\n",
       "      <td>2006-07-26</td>\n",
       "      <td>15</td>\n",
       "      <td>173</td>\n",
       "      <td>104</td>\n",
       "      <td>277</td>\n",
       "      <td>60.17</td>\n",
       "    </tr>\n",
       "    <tr>\n",
       "      <th>67568</th>\n",
       "      <td>Gumboy: Crazy Adventures</td>\n",
       "      <td>2006-12-19</td>\n",
       "      <td>22</td>\n",
       "      <td>61</td>\n",
       "      <td>60</td>\n",
       "      <td>121</td>\n",
       "      <td>50.32</td>\n",
       "    </tr>\n",
       "    <tr>\n",
       "      <th>67569</th>\n",
       "      <td>Shattered Union</td>\n",
       "      <td>2006-10-25</td>\n",
       "      <td>13</td>\n",
       "      <td>71</td>\n",
       "      <td>70</td>\n",
       "      <td>141</td>\n",
       "      <td>50.27</td>\n",
       "    </tr>\n",
       "    <tr>\n",
       "      <th>67570</th>\n",
       "      <td>Poker Superstars II</td>\n",
       "      <td>2006-10-05</td>\n",
       "      <td>9</td>\n",
       "      <td>6</td>\n",
       "      <td>7</td>\n",
       "      <td>13</td>\n",
       "      <td>47.89</td>\n",
       "    </tr>\n",
       "  </tbody>\n",
       "</table>\n",
       "<p>67571 rows × 7 columns</p>\n",
       "</div>"
      ],
      "text/plain": [
       "                                   game     release  peak_players  \\\n",
       "0                           Pizza Tower  2023-01-26          4529   \n",
       "1                       Resident Evil 4  2023-03-24        168191   \n",
       "2      The Murder of Sonic the Hedgehog  2023-03-31         15543   \n",
       "3                    Pineapple on pizza  2023-03-28          1415   \n",
       "4                            Hi-Fi RUSH  2023-01-25          6132   \n",
       "...                                 ...         ...           ...   \n",
       "67566                   Space Empires V  2006-10-16           137   \n",
       "67567  Iron Warriors: T-72 Tank Command  2006-07-26            15   \n",
       "67568          Gumboy: Crazy Adventures  2006-12-19            22   \n",
       "67569                   Shattered Union  2006-10-25            13   \n",
       "67570               Poker Superstars II  2006-10-05             9   \n",
       "\n",
       "       positive_reviews  negative_reviews  total_reviews  rating  \n",
       "0                 19807               227          20034   96.39  \n",
       "1                 61752              1616          63368   95.75  \n",
       "2                 12643               213          12856   95.54  \n",
       "3                 11717               209          11926   95.39  \n",
       "4                 14152               324          14476   95.09  \n",
       "...                 ...               ...            ...     ...  \n",
       "67566               290               120            410   67.34  \n",
       "67567               173               104            277   60.17  \n",
       "67568                61                60            121   50.32  \n",
       "67569                71                70            141   50.27  \n",
       "67570                 6                 7             13   47.89  \n",
       "\n",
       "[67571 rows x 7 columns]"
      ]
     },
     "execution_count": 6,
     "metadata": {},
     "output_type": "execute_result"
    }
   ],
   "source": [
    "data"
   ]
  },
  {
   "cell_type": "code",
   "execution_count": 7,
   "id": "a00b0080",
   "metadata": {},
   "outputs": [
    {
     "data": {
      "text/plain": [
       "game                0\n",
       "release             0\n",
       "peak_players        0\n",
       "positive_reviews    0\n",
       "negative_reviews    0\n",
       "total_reviews       0\n",
       "rating              0\n",
       "dtype: int64"
      ]
     },
     "execution_count": 7,
     "metadata": {},
     "output_type": "execute_result"
    }
   ],
   "source": [
    "# to detect missing values\n",
    "data.isnull().sum()"
   ]
  },
  {
   "cell_type": "code",
   "execution_count": 8,
   "id": "55cf8249",
   "metadata": {},
   "outputs": [
    {
     "data": {
      "text/plain": [
       "(67571, 7)"
      ]
     },
     "execution_count": 8,
     "metadata": {},
     "output_type": "execute_result"
    }
   ],
   "source": [
    "data.shape "
   ]
  },
  {
   "cell_type": "code",
   "execution_count": 9,
   "id": "d63ce40a",
   "metadata": {},
   "outputs": [
    {
     "data": {
      "text/plain": [
       "1144"
      ]
     },
     "execution_count": 9,
     "metadata": {},
     "output_type": "execute_result"
    }
   ],
   "source": [
    "data.duplicated().sum()"
   ]
  },
  {
   "cell_type": "code",
   "execution_count": 10,
   "id": "46e7d631",
   "metadata": {},
   "outputs": [],
   "source": [
    "df = data.drop_duplicates()"
   ]
  },
  {
   "cell_type": "code",
   "execution_count": 11,
   "id": "76db9c25",
   "metadata": {},
   "outputs": [
    {
     "data": {
      "text/plain": [
       "0"
      ]
     },
     "execution_count": 11,
     "metadata": {},
     "output_type": "execute_result"
    }
   ],
   "source": [
    "df.duplicated().sum()"
   ]
  },
  {
   "cell_type": "code",
   "execution_count": null,
   "id": "a1e8dc4f",
   "metadata": {},
   "outputs": [],
   "source": []
  },
  {
   "cell_type": "code",
   "execution_count": 12,
   "id": "e1262611",
   "metadata": {},
   "outputs": [
    {
     "name": "stderr",
     "output_type": "stream",
     "text": [
      "C:\\Users\\Hp\\AppData\\Local\\Temp\\ipykernel_3324\\1639945692.py:3: SettingWithCopyWarning: \n",
      "A value is trying to be set on a copy of a slice from a DataFrame.\n",
      "Try using .loc[row_indexer,col_indexer] = value instead\n",
      "\n",
      "See the caveats in the documentation: https://pandas.pydata.org/pandas-docs/stable/user_guide/indexing.html#returning-a-view-versus-a-copy\n",
      "  df[['peak_players', 'positive_reviews', 'negative_reviews', 'total_reviews']] = scaler.fit_transform(df[['peak_players', 'positive_reviews', 'negative_reviews', 'total_reviews']])\n"
     ]
    }
   ],
   "source": [
    "# Scale the features\n",
    "scaler = RobustScaler()\n",
    "df[['peak_players', 'positive_reviews', 'negative_reviews', 'total_reviews']] = scaler.fit_transform(df[['peak_players', 'positive_reviews', 'negative_reviews', 'total_reviews']])"
   ]
  },
  {
   "cell_type": "code",
   "execution_count": 13,
   "id": "64c4f289",
   "metadata": {},
   "outputs": [],
   "source": [
    "X = df.drop(['release', 'rating','game'], axis=1)\n",
    "y = df['rating']"
   ]
  },
  {
   "cell_type": "code",
   "execution_count": 14,
   "id": "6801b688",
   "metadata": {},
   "outputs": [],
   "source": [
    "# Splitting the data into training and testing sets\n",
    "X_train, X_test, y_train, y_test = train_test_split(X, y, test_size=0.3, random_state=40)"
   ]
  },
  {
   "cell_type": "code",
   "execution_count": 15,
   "id": "2c4c05c4",
   "metadata": {},
   "outputs": [
    {
     "name": "stdout",
     "output_type": "stream",
     "text": [
      "peak_players        float64\n",
      "positive_reviews    float64\n",
      "negative_reviews    float64\n",
      "total_reviews       float64\n",
      "dtype: object\n"
     ]
    }
   ],
   "source": [
    "print(X_train.dtypes)"
   ]
  },
  {
   "cell_type": "code",
   "execution_count": 16,
   "id": "e65b0785",
   "metadata": {},
   "outputs": [
    {
     "data": {
      "text/plain": [
       "((46498, 4), (46498,), (19929, 4), (19929,))"
      ]
     },
     "execution_count": 16,
     "metadata": {},
     "output_type": "execute_result"
    }
   ],
   "source": [
    "X_train.shape, y_train.shape, X_test.shape, y_test.shape"
   ]
  },
  {
   "cell_type": "code",
   "execution_count": 17,
   "id": "788e9884",
   "metadata": {},
   "outputs": [
    {
     "data": {
      "text/html": [
       "<div>\n",
       "<style scoped>\n",
       "    .dataframe tbody tr th:only-of-type {\n",
       "        vertical-align: middle;\n",
       "    }\n",
       "\n",
       "    .dataframe tbody tr th {\n",
       "        vertical-align: top;\n",
       "    }\n",
       "\n",
       "    .dataframe thead th {\n",
       "        text-align: right;\n",
       "    }\n",
       "</style>\n",
       "<table border=\"1\" class=\"dataframe\">\n",
       "  <thead>\n",
       "    <tr style=\"text-align: right;\">\n",
       "      <th></th>\n",
       "      <th>peak_players</th>\n",
       "      <th>positive_reviews</th>\n",
       "      <th>negative_reviews</th>\n",
       "      <th>total_reviews</th>\n",
       "    </tr>\n",
       "  </thead>\n",
       "  <tbody>\n",
       "    <tr>\n",
       "      <th>14349</th>\n",
       "      <td>-0.113636</td>\n",
       "      <td>-0.178947</td>\n",
       "      <td>-0.142857</td>\n",
       "      <td>-0.174603</td>\n",
       "    </tr>\n",
       "    <tr>\n",
       "      <th>30813</th>\n",
       "      <td>0.090909</td>\n",
       "      <td>0.336842</td>\n",
       "      <td>0.321429</td>\n",
       "      <td>0.317460</td>\n",
       "    </tr>\n",
       "    <tr>\n",
       "      <th>19590</th>\n",
       "      <td>58.204545</td>\n",
       "      <td>22.610526</td>\n",
       "      <td>25.821429</td>\n",
       "      <td>22.777778</td>\n",
       "    </tr>\n",
       "    <tr>\n",
       "      <th>51080</th>\n",
       "      <td>-0.068182</td>\n",
       "      <td>-0.168421</td>\n",
       "      <td>0.107143</td>\n",
       "      <td>-0.111111</td>\n",
       "    </tr>\n",
       "    <tr>\n",
       "      <th>53016</th>\n",
       "      <td>0.113636</td>\n",
       "      <td>-0.010526</td>\n",
       "      <td>-0.142857</td>\n",
       "      <td>-0.047619</td>\n",
       "    </tr>\n",
       "  </tbody>\n",
       "</table>\n",
       "</div>"
      ],
      "text/plain": [
       "       peak_players  positive_reviews  negative_reviews  total_reviews\n",
       "14349     -0.113636         -0.178947         -0.142857      -0.174603\n",
       "30813      0.090909          0.336842          0.321429       0.317460\n",
       "19590     58.204545         22.610526         25.821429      22.777778\n",
       "51080     -0.068182         -0.168421          0.107143      -0.111111\n",
       "53016      0.113636         -0.010526         -0.142857      -0.047619"
      ]
     },
     "execution_count": 17,
     "metadata": {},
     "output_type": "execute_result"
    }
   ],
   "source": [
    "X_test.head()"
   ]
  },
  {
   "cell_type": "code",
   "execution_count": 33,
   "id": "9f59c9a5",
   "metadata": {},
   "outputs": [],
   "source": [
    "# Initialize the linear regression model\n",
    "from sklearn.linear_model import LinearRegression\n",
    "multiple_lr = LinearRegression()\n",
    "# Fit the model\n",
    "multiple_lr.fit(X_train, y_train)\n",
    "# Make predictions\n",
    "from sklearn.model_selection import cross_val_score, KFold\n",
    "# Perform KFold\n",
    "kf = KFold(n_splits=10, shuffle=True, random_state=42)\n",
    "# Perform cross-validation\n",
    "scores = cross_val_score(multiple_lr, X_train, y_train, cv=kf, scoring='neg_mean_squared_error')\n",
    "y_pred = multiple_lr.predict(X_test)"
   ]
  },
  {
   "cell_type": "code",
   "execution_count": 19,
   "id": "9832b721",
   "metadata": {},
   "outputs": [
    {
     "name": "stdout",
     "output_type": "stream",
     "text": [
      "Mean MSE: 200.120668528515\n"
     ]
    }
   ],
   "source": [
    "# Calculate the mean score\n",
    "mean_score = -scores.mean()\n",
    "print(\"Mean MSE:\", mean_score)"
   ]
  },
  {
   "cell_type": "code",
   "execution_count": 20,
   "id": "a036e9d2",
   "metadata": {},
   "outputs": [
    {
     "name": "stdout",
     "output_type": "stream",
     "text": [
      "model using a linear regression \n",
      "MAE: 11.369413008078071\n",
      "MSE: 197.78224656239834\n",
      "R-squared: 0.00713109729395911\n",
      "Model is overfitting\n"
     ]
    }
   ],
   "source": [
    "print('model using a linear regression ')\n",
    "print(f'MAE: {mean_absolute_error(y_test, y_pred)}')\n",
    "print(f'MSE: {mean_squared_error(y_test, y_pred)}')\n",
    "print(f'R-squared: {r2_score(y_test, y_pred)}')\n",
    "\n",
    "test_score = r2_score(y_test, y_pred)\n",
    "\n",
    "print('Model is overfitting' if mean_score > test_score else 'Model is not overfitting')"
   ]
  },
  {
   "cell_type": "code",
   "execution_count": 21,
   "id": "b1c96d6a",
   "metadata": {},
   "outputs": [],
   "source": [
    "# DecisionTreeRegressor"
   ]
  },
  {
   "cell_type": "code",
   "execution_count": 22,
   "id": "3501f959",
   "metadata": {},
   "outputs": [],
   "source": [
    "Decision = DecisionTreeRegressor()"
   ]
  },
  {
   "cell_type": "code",
   "execution_count": 23,
   "id": "6a4767ab",
   "metadata": {},
   "outputs": [],
   "source": [
    "Decision.fit(X_train, y_train)\n",
    "# Make predictions\n",
    "from sklearn.model_selection import cross_val_score\n",
    "# Perform KFold\n",
    "kf = KFold(n_splits=10, shuffle=True, random_state=42)\n",
    "# Perform cross-validation\n",
    "Decision_scores = cross_val_score(Decision, X_train, y_train, cv=kf, scoring='neg_mean_squared_error')\n",
    "Decision_y_pred = Decision.predict(X_test)"
   ]
  },
  {
   "cell_type": "code",
   "execution_count": 24,
   "id": "3fab5cf9",
   "metadata": {},
   "outputs": [
    {
     "name": "stdout",
     "output_type": "stream",
     "text": [
      "Mean MSE: 0.369017385042916\n"
     ]
    }
   ],
   "source": [
    "# Calculate the mean score\n",
    "Decisionmean_score = -Decision_scores.mean()\n",
    "print(\"Mean MSE:\", Decisionmean_score)"
   ]
  },
  {
   "cell_type": "code",
   "execution_count": 25,
   "id": "514ef043",
   "metadata": {},
   "outputs": [
    {
     "name": "stdout",
     "output_type": "stream",
     "text": [
      "model using Decision tree\n",
      "MAE: 0.15251292086920676\n",
      "MSE: 0.2701092127051031\n",
      "R-squared: 0.9986440489867492\n",
      "Model is not overfitting\n"
     ]
    }
   ],
   "source": [
    "print('model using Decision tree')\n",
    "print(f'MAE: {mean_absolute_error(y_test, Decision_y_pred)}')\n",
    "print(f'MSE: {mean_squared_error(y_test, Decision_y_pred)}')\n",
    "print(f'R-squared: {r2_score(y_test, Decision_y_pred)}')\n",
    "test_score = r2_score(y_test, Decision_y_pred)\n",
    "\n",
    "print('Model is overfitting' if Decisionmean_score > test_score else 'Model is not overfitting')"
   ]
  },
  {
   "cell_type": "code",
   "execution_count": 26,
   "id": "7a3631de",
   "metadata": {},
   "outputs": [],
   "source": [
    "# RandomForestRegressor"
   ]
  },
  {
   "cell_type": "code",
   "execution_count": 27,
   "id": "30598c52",
   "metadata": {},
   "outputs": [
    {
     "data": {
      "text/html": [
       "<style>#sk-container-id-1 {color: black;}#sk-container-id-1 pre{padding: 0;}#sk-container-id-1 div.sk-toggleable {background-color: white;}#sk-container-id-1 label.sk-toggleable__label {cursor: pointer;display: block;width: 100%;margin-bottom: 0;padding: 0.3em;box-sizing: border-box;text-align: center;}#sk-container-id-1 label.sk-toggleable__label-arrow:before {content: \"▸\";float: left;margin-right: 0.25em;color: #696969;}#sk-container-id-1 label.sk-toggleable__label-arrow:hover:before {color: black;}#sk-container-id-1 div.sk-estimator:hover label.sk-toggleable__label-arrow:before {color: black;}#sk-container-id-1 div.sk-toggleable__content {max-height: 0;max-width: 0;overflow: hidden;text-align: left;background-color: #f0f8ff;}#sk-container-id-1 div.sk-toggleable__content pre {margin: 0.2em;color: black;border-radius: 0.25em;background-color: #f0f8ff;}#sk-container-id-1 input.sk-toggleable__control:checked~div.sk-toggleable__content {max-height: 200px;max-width: 100%;overflow: auto;}#sk-container-id-1 input.sk-toggleable__control:checked~label.sk-toggleable__label-arrow:before {content: \"▾\";}#sk-container-id-1 div.sk-estimator input.sk-toggleable__control:checked~label.sk-toggleable__label {background-color: #d4ebff;}#sk-container-id-1 div.sk-label input.sk-toggleable__control:checked~label.sk-toggleable__label {background-color: #d4ebff;}#sk-container-id-1 input.sk-hidden--visually {border: 0;clip: rect(1px 1px 1px 1px);clip: rect(1px, 1px, 1px, 1px);height: 1px;margin: -1px;overflow: hidden;padding: 0;position: absolute;width: 1px;}#sk-container-id-1 div.sk-estimator {font-family: monospace;background-color: #f0f8ff;border: 1px dotted black;border-radius: 0.25em;box-sizing: border-box;margin-bottom: 0.5em;}#sk-container-id-1 div.sk-estimator:hover {background-color: #d4ebff;}#sk-container-id-1 div.sk-parallel-item::after {content: \"\";width: 100%;border-bottom: 1px solid gray;flex-grow: 1;}#sk-container-id-1 div.sk-label:hover label.sk-toggleable__label {background-color: #d4ebff;}#sk-container-id-1 div.sk-serial::before {content: \"\";position: absolute;border-left: 1px solid gray;box-sizing: border-box;top: 0;bottom: 0;left: 50%;z-index: 0;}#sk-container-id-1 div.sk-serial {display: flex;flex-direction: column;align-items: center;background-color: white;padding-right: 0.2em;padding-left: 0.2em;position: relative;}#sk-container-id-1 div.sk-item {position: relative;z-index: 1;}#sk-container-id-1 div.sk-parallel {display: flex;align-items: stretch;justify-content: center;background-color: white;position: relative;}#sk-container-id-1 div.sk-item::before, #sk-container-id-1 div.sk-parallel-item::before {content: \"\";position: absolute;border-left: 1px solid gray;box-sizing: border-box;top: 0;bottom: 0;left: 50%;z-index: -1;}#sk-container-id-1 div.sk-parallel-item {display: flex;flex-direction: column;z-index: 1;position: relative;background-color: white;}#sk-container-id-1 div.sk-parallel-item:first-child::after {align-self: flex-end;width: 50%;}#sk-container-id-1 div.sk-parallel-item:last-child::after {align-self: flex-start;width: 50%;}#sk-container-id-1 div.sk-parallel-item:only-child::after {width: 0;}#sk-container-id-1 div.sk-dashed-wrapped {border: 1px dashed gray;margin: 0 0.4em 0.5em 0.4em;box-sizing: border-box;padding-bottom: 0.4em;background-color: white;}#sk-container-id-1 div.sk-label label {font-family: monospace;font-weight: bold;display: inline-block;line-height: 1.2em;}#sk-container-id-1 div.sk-label-container {text-align: center;}#sk-container-id-1 div.sk-container {/* jupyter's `normalize.less` sets `[hidden] { display: none; }` but bootstrap.min.css set `[hidden] { display: none !important; }` so we also need the `!important` here to be able to override the default hidden behavior on the sphinx rendered scikit-learn.org. See: https://github.com/scikit-learn/scikit-learn/issues/21755 */display: inline-block !important;position: relative;}#sk-container-id-1 div.sk-text-repr-fallback {display: none;}</style><div id=\"sk-container-id-1\" class=\"sk-top-container\"><div class=\"sk-text-repr-fallback\"><pre>RandomForestRegressor(random_state=42)</pre><b>In a Jupyter environment, please rerun this cell to show the HTML representation or trust the notebook. <br />On GitHub, the HTML representation is unable to render, please try loading this page with nbviewer.org.</b></div><div class=\"sk-container\" hidden><div class=\"sk-item\"><div class=\"sk-estimator sk-toggleable\"><input class=\"sk-toggleable__control sk-hidden--visually\" id=\"sk-estimator-id-1\" type=\"checkbox\" checked><label for=\"sk-estimator-id-1\" class=\"sk-toggleable__label sk-toggleable__label-arrow\">RandomForestRegressor</label><div class=\"sk-toggleable__content\"><pre>RandomForestRegressor(random_state=42)</pre></div></div></div></div></div>"
      ],
      "text/plain": [
       "RandomForestRegressor(random_state=42)"
      ]
     },
     "execution_count": 27,
     "metadata": {},
     "output_type": "execute_result"
    }
   ],
   "source": [
    "from sklearn.ensemble import RandomForestRegressor\n",
    "# Initialize Random Forest Regressor\n",
    "rf_regressor = RandomForestRegressor(n_estimators=100, random_state=42)\n",
    "# Train the model\n",
    "rf_regressor.fit(X_train, y_train)"
   ]
  },
  {
   "cell_type": "code",
   "execution_count": 28,
   "id": "1371d0b2",
   "metadata": {},
   "outputs": [],
   "source": [
    "# Make predictions\n",
    "from sklearn.model_selection import cross_val_score\n",
    "# Perform KFold\n",
    "kf = KFold(n_splits=10, shuffle=True, random_state=42)\n",
    "# Perform cross-validation\n",
    "rf_scores = cross_val_score(rf_regressor, X_train, y_train, cv=kf, scoring='neg_mean_squared_error')\n",
    "rf_y_pred = rf_regressor.predict(X_test)"
   ]
  },
  {
   "cell_type": "code",
   "execution_count": 29,
   "id": "898b818f",
   "metadata": {},
   "outputs": [
    {
     "name": "stdout",
     "output_type": "stream",
     "text": [
      "Mean MSE: 0.14376831636565318\n"
     ]
    }
   ],
   "source": [
    "# Calculate the mean score\n",
    "rf_mean_score = -rf_scores.mean()\n",
    "print(\"Mean MSE:\", rf_mean_score)"
   ]
  },
  {
   "cell_type": "code",
   "execution_count": 30,
   "id": "ae9bdada",
   "metadata": {},
   "outputs": [
    {
     "name": "stdout",
     "output_type": "stream",
     "text": [
      "model using Random Forest\n",
      "MAE: 0.06035980229824125\n",
      "MSE: 0.10102014402980546\n",
      "R-squared: 0.9994928778426914\n",
      "Model is not overfitting\n"
     ]
    }
   ],
   "source": [
    "print('model using Random Forest')\n",
    "print(f'MAE: {mean_absolute_error(y_test, rf_y_pred)}')\n",
    "print(f'MSE: {mean_squared_error(y_test, rf_y_pred)}')\n",
    "print(f'R-squared: {r2_score(y_test, rf_y_pred)}')\n",
    "test_score = r2_score(y_test, rf_y_pred)\n",
    "\n",
    "print('Model is overfitting' if rf_mean_score > test_score else 'Model is not overfitting')"
   ]
  },
  {
   "cell_type": "code",
   "execution_count": 31,
   "id": "aa5d40d0",
   "metadata": {},
   "outputs": [
    {
     "data": {
      "image/png": "[encoded data removed]",
      "text/plain": [
       "<Figure size 800x600 with 1 Axes>"
      ]
     },
     "metadata": {},
     "output_type": "display_data"
    },
    {
     "data": {
      "image/png": "[encoded data removed]",
      "text/plain": [
       "<Figure size 800x600 with 1 Axes>"
      ]
     },
     "metadata": {},
     "output_type": "display_data"
    },
    {
     "data": {
      "image/png": "[encoded data removed]",
      "text/plain": [
       "<Figure size 800x600 with 1 Axes>"
      ]
     },
     "metadata": {},
     "output_type": "display_data"
    }
   ],
   "source": [
    "import matplotlib.pyplot as plt\n",
    "import seaborn as sns\n",
    "\n",
    "# Results data\n",
    "models = ['Decision Tree', 'Linear Regression', 'Random Forest']\n",
    "mae_values = [0.155, 11.248, 0.062]\n",
    "mse_values = [0.308, 194.479, 0.122]\n",
    "r_squared_values = [0.998, 0.008, 0.999]\n",
    "\n",
    "# Bar chart for MAE\n",
    "plt.figure(figsize=(8, 6))\n",
    "sns.barplot(x=models, y=mae_values)\n",
    "plt.title('Mean Absolute Error (MAE) Comparison')\n",
    "plt.ylabel('MAE')\n",
    "plt.xlabel('Model')\n",
    "plt.show()\n",
    "\n",
    "# Bar chart for MSE\n",
    "plt.figure(figsize=(8, 6))\n",
    "sns.barplot(x=models, y=mse_values)\n",
    "plt.title('Mean Squared Error (MSE) Comparison')\n",
    "plt.ylabel('MSE')\n",
    "plt.xlabel('Model')\n",
    "plt.show()\n",
    "\n",
    "# Line plot for R-squared\n",
    "plt.figure(figsize=(8, 6))\n",
    "sns.lineplot(x=models, y=r_squared_values, marker='o')\n",
    "plt.title('R-squared Comparison')\n",
    "plt.ylabel('R-squared')\n",
    "plt.xlabel('Model')\n",
    "plt.ylim(-0.1, 1.1)  # Set y-axis limits to [0, 1]\n",
    "plt.show()\n",
    "\n"
   ]
  },
  {
   "cell_type": "code",
   "execution_count": null,
   "id": "226e1df2",
   "metadata": {},
   "outputs": [],
   "source": []
  }
 ],
 "metadata": {
  "kernelspec": {
   "display_name": "Python 3 (ipykernel)",
   "language": "python",
   "name": "python3"
  },
  "language_info": {
   "codemirror_mode": {
    "name": "ipython",
    "version": 3
   },
   "file_extension": ".py",
   "mimetype": "text/x-python",
   "name": "python",
   "nbconvert_exporter": "python",
   "pygments_lexer": "ipython3",
   "version": "3.11.5"
  }
 },
 "nbformat": 4,
 "nbformat_minor": 5
}
